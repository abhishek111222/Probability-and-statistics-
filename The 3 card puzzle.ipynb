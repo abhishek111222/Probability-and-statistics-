{
 "cells": [
  {
   "cell_type": "code",
   "execution_count": 75,
   "metadata": {},
   "outputs": [],
   "source": [
    "red_bck=\"\\x1b[41m%s\\x1b[0m\"\n",
    "blue_bck=\"\\x1b[44m%s\\x1b[0m\"\n",
    "red=red_bck%'R'\n",
    "black=blue_bck%'B'"
   ]
  },
  {
   "cell_type": "code",
   "execution_count": 76,
   "metadata": {},
   "outputs": [],
   "source": [
    "Cards = [(red,black),(red,red),(black,black)]\n",
    "counts = {\"same\" : 0, \"different\" : 0}"
   ]
  },
  {
   "cell_type": "code",
   "execution_count": 77,
   "metadata": {},
   "outputs": [],
   "source": [
    "from random import random"
   ]
  },
  {
   "cell_type": "code",
   "execution_count": 78,
   "metadata": {},
   "outputs": [
    {
     "name": "stdout",
     "output_type": "stream",
     "text": [
      "\u001b[41mR\u001b[0m\u001b[41mR\u001b[0m same      \u001b[41mR\u001b[0m\u001b[41mR\u001b[0m same      \u001b[41mR\u001b[0m\u001b[44mB\u001b[0m different \u001b[41mR\u001b[0m\u001b[41mR\u001b[0m same      \u001b[41mR\u001b[0m\u001b[41mR\u001b[0m same      \n",
      "\u001b[44mB\u001b[0m\u001b[41mR\u001b[0m different \u001b[44mB\u001b[0m\u001b[44mB\u001b[0m same      \u001b[41mR\u001b[0m\u001b[41mR\u001b[0m same      \u001b[44mB\u001b[0m\u001b[44mB\u001b[0m same      \u001b[44mB\u001b[0m\u001b[44mB\u001b[0m same      \n",
      "\u001b[44mB\u001b[0m\u001b[44mB\u001b[0m same      \u001b[44mB\u001b[0m\u001b[44mB\u001b[0m same      \u001b[41mR\u001b[0m\u001b[41mR\u001b[0m same      \u001b[41mR\u001b[0m\u001b[44mB\u001b[0m different \u001b[41mR\u001b[0m\u001b[41mR\u001b[0m same      \n",
      "\u001b[44mB\u001b[0m\u001b[44mB\u001b[0m same      \u001b[41mR\u001b[0m\u001b[41mR\u001b[0m same      \u001b[41mR\u001b[0m\u001b[41mR\u001b[0m same      \u001b[44mB\u001b[0m\u001b[44mB\u001b[0m same      \u001b[41mR\u001b[0m\u001b[41mR\u001b[0m same      \n",
      "\u001b[41mR\u001b[0m\u001b[41mR\u001b[0m same      \u001b[44mB\u001b[0m\u001b[41mR\u001b[0m different \u001b[41mR\u001b[0m\u001b[41mR\u001b[0m same      \u001b[44mB\u001b[0m\u001b[41mR\u001b[0m different \u001b[41mR\u001b[0m\u001b[44mB\u001b[0m different \n",
      "\u001b[41mR\u001b[0m\u001b[41mR\u001b[0m same      \u001b[44mB\u001b[0m\u001b[44mB\u001b[0m same      \u001b[41mR\u001b[0m\u001b[41mR\u001b[0m same      \u001b[41mR\u001b[0m\u001b[41mR\u001b[0m same      \u001b[41mR\u001b[0m\u001b[41mR\u001b[0m same      \n",
      "\u001b[41mR\u001b[0m\u001b[44mB\u001b[0m different \u001b[44mB\u001b[0m\u001b[41mR\u001b[0m different \u001b[41mR\u001b[0m\u001b[44mB\u001b[0m different \u001b[44mB\u001b[0m\u001b[44mB\u001b[0m same      \u001b[41mR\u001b[0m\u001b[44mB\u001b[0m different \n",
      "\u001b[41mR\u001b[0m\u001b[41mR\u001b[0m same      \u001b[44mB\u001b[0m\u001b[44mB\u001b[0m same      \u001b[44mB\u001b[0m\u001b[44mB\u001b[0m same      \u001b[41mR\u001b[0m\u001b[44mB\u001b[0m different \u001b[44mB\u001b[0m\u001b[44mB\u001b[0m same      \n",
      "\u001b[41mR\u001b[0m\u001b[41mR\u001b[0m same      \u001b[44mB\u001b[0m\u001b[44mB\u001b[0m same      \u001b[44mB\u001b[0m\u001b[44mB\u001b[0m same      \u001b[44mB\u001b[0m\u001b[41mR\u001b[0m different \u001b[44mB\u001b[0m\u001b[44mB\u001b[0m same      \n",
      "\u001b[44mB\u001b[0m\u001b[44mB\u001b[0m same      \u001b[41mR\u001b[0m\u001b[41mR\u001b[0m same      \u001b[41mR\u001b[0m\u001b[41mR\u001b[0m same      \u001b[41mR\u001b[0m\u001b[44mB\u001b[0m different \u001b[44mB\u001b[0m\u001b[44mB\u001b[0m same      \n",
      "\n",
      "{'same': 37, 'different': 13}\n"
     ]
    }
   ],
   "source": [
    "for j in range(50):\n",
    "    i = int(random()*3)\n",
    "    side = int(random()*2)\n",
    "    C = Cards[i]\n",
    "    if side == 1:\n",
    "        C = (C[1], C[0])\n",
    "    same = \"same\" if C[0] == C[1] else \"different\"\n",
    "    \n",
    "    counts[same] += 1\n",
    "    print(\"\".join(C) + \" %-10s\"%same, end = \"\")\n",
    "    if (j+1) % 5 == 0:\n",
    "        print()\n",
    "    \n",
    "print()\n",
    "print(counts)\n",
    "    "
   ]
  },
  {
   "cell_type": "code",
   "execution_count": null,
   "metadata": {},
   "outputs": [],
   "source": []
  },
  {
   "cell_type": "code",
   "execution_count": null,
   "metadata": {},
   "outputs": [],
   "source": []
  }
 ],
 "metadata": {
  "kernelspec": {
   "display_name": "Python 3",
   "language": "python",
   "name": "python3"
  },
  "language_info": {
   "codemirror_mode": {
    "name": "ipython",
    "version": 3
   },
   "file_extension": ".py",
   "mimetype": "text/x-python",
   "name": "python",
   "nbconvert_exporter": "python",
   "pygments_lexer": "ipython3",
   "version": "3.8.5"
  }
 },
 "nbformat": 4,
 "nbformat_minor": 4
}
